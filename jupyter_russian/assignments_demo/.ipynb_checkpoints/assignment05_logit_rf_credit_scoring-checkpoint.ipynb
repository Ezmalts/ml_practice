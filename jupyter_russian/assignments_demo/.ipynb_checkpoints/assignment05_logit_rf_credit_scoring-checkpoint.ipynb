{
 "cells": [
  {
   "cell_type": "markdown",
   "metadata": {},
   "source": [
    "\n",
    "<img src=\"../../img/ods_stickers.jpg\">\n",
    "\n",
    "## <center> [mlcourse.ai](https://mlcourse.ai) – открытый курс OpenDataScience по машинному обучению \n",
    "    \n",
    "Автор материала: Виталий Радченко, Data scientist @ YouScan (@vradchenko в Slack ODS). Материал распространяется на условиях лицензии [Creative Commons CC BY-NC-SA 4.0](https://creativecommons.org/licenses/by-nc-sa/4.0/). Можно использовать в любых целях (редактировать, поправлять и брать за основу), кроме коммерческих, но с обязательным упоминанием автора материала"
   ]
  },
  {
   "cell_type": "markdown",
   "metadata": {},
   "source": [
    "# <center> Домашнее задание № 5 (Демо).\n",
    "## <center> Логистическая регрессия и случайный лес в задаче кредитного скоринга"
   ]
  },
  {
   "cell_type": "markdown",
   "metadata": {},
   "source": [
    "[Веб-форма](https://docs.google.com/forms/d/1HASy2b_FLBHBCzzpG-TbnbB6gqhB-qwznQxU2vaoSgc/) для ответов.\n",
    "\n",
    "#### Нашей главной задачей будет построение модели для задачи кредитного скоринга.\n",
    "\n",
    "Но для разминки решите первое задание :)\n",
    "\n",
    "**Задание 1.** В зале суда есть 5 присяжных, каждый из них по отдельности с вероятностью 70% может правильно определить, виновен подсудимый или нет. С какой вероятностью они все вместе вынесут правильный вердикт, если решение принимается большинством голосов?\n",
    "- 70.00%\n",
    "- 83.20%\n",
    "- 83.70%\n",
    "- 87.50%\n",
    "\n",
    "Теперь перейдем непосредственно к машинному обучению.\n",
    "\n",
    "#### Данные представлены следующим образом:\n",
    "\n",
    "##### Прогнозируемая  переменная\n",
    "* SeriousDlqin2yrs\t      – Человек не выплатил данный кредит в течение 90 дней; возможные значения  1/0 \n",
    "\n",
    "##### Независимые признаки\n",
    "* age\t                          –  Возраст заёмщика кредитных средств; тип - integer\n",
    "* NumberOfTime30-59DaysPastDueNotWorse\t – Количество раз, когда человек имел просрочку выплаты других кредитов более 30-59 дней, но не больше в течение последних двух лет; тип -\tinteger\n",
    "* DebtRatio  – \tЕжемесячный отчисления на задолжености(кредиты,алименты и т.д.)  / совокупный месячный доход \tpercentage; тип -\treal\n",
    "* MonthlyIncome\t – Месячный доход в долларах; тип -\treal\n",
    "* NumberOfTimes90DaysLate  – Количество раз, когда человек имел просрочку выплаты других кредитов более 90 дней; тип -\tinteger\n",
    "* NumberOfTime60-89DaysPastDueNotWorse – \tКоличество раз, когда человек имел просрочку выплаты других кредитов более 60-89 дней, но не больше в течение последних двух лет; тип -\tinteger\n",
    "* NumberOfDependents  – Число человек в семье кредитозаёмщика; тип -\tinteger"
   ]
  },
  {
   "cell_type": "code",
   "execution_count": 1,
   "metadata": {},
   "outputs": [],
   "source": [
    "%matplotlib inline\n",
    "# отключим предупреждения Anaconda\n",
    "import warnings\n",
    "\n",
    "import matplotlib.pyplot as plt\n",
    "import seaborn as sns\n",
    "\n",
    "warnings.filterwarnings(\"ignore\")\n",
    "import numpy as np\n",
    "import pandas as pd"
   ]
  },
  {
   "cell_type": "code",
   "execution_count": 2,
   "metadata": {},
   "outputs": [],
   "source": [
    "## Сделаем функцию, которая будет заменять NaN значения на медиану в каждом столбце таблицы\n",
    "def delete_nan(table):\n",
    "    for col in table.columns:\n",
    "        table[col] = table[col].fillna(table[col].median())\n",
    "    return table"
   ]
  },
  {
   "cell_type": "code",
   "execution_count": 3,
   "metadata": {},
   "outputs": [
    {
     "data": {
      "text/html": [
       "<div>\n",
       "<style scoped>\n",
       "    .dataframe tbody tr th:only-of-type {\n",
       "        vertical-align: middle;\n",
       "    }\n",
       "\n",
       "    .dataframe tbody tr th {\n",
       "        vertical-align: top;\n",
       "    }\n",
       "\n",
       "    .dataframe thead th {\n",
       "        text-align: right;\n",
       "    }\n",
       "</style>\n",
       "<table border=\"1\" class=\"dataframe\">\n",
       "  <thead>\n",
       "    <tr style=\"text-align: right;\">\n",
       "      <th></th>\n",
       "      <th>SeriousDlqin2yrs</th>\n",
       "      <th>age</th>\n",
       "      <th>NumberOfTime30-59DaysPastDueNotWorse</th>\n",
       "      <th>DebtRatio</th>\n",
       "      <th>NumberOfTimes90DaysLate</th>\n",
       "      <th>NumberOfTime60-89DaysPastDueNotWorse</th>\n",
       "      <th>MonthlyIncome</th>\n",
       "      <th>NumberOfDependents</th>\n",
       "    </tr>\n",
       "  </thead>\n",
       "  <tbody>\n",
       "    <tr>\n",
       "      <th>0</th>\n",
       "      <td>0</td>\n",
       "      <td>64</td>\n",
       "      <td>0</td>\n",
       "      <td>0.249908</td>\n",
       "      <td>0</td>\n",
       "      <td>0</td>\n",
       "      <td>8158.0</td>\n",
       "      <td>0.0</td>\n",
       "    </tr>\n",
       "    <tr>\n",
       "      <th>1</th>\n",
       "      <td>0</td>\n",
       "      <td>58</td>\n",
       "      <td>0</td>\n",
       "      <td>3870.000000</td>\n",
       "      <td>0</td>\n",
       "      <td>0</td>\n",
       "      <td>NaN</td>\n",
       "      <td>0.0</td>\n",
       "    </tr>\n",
       "    <tr>\n",
       "      <th>2</th>\n",
       "      <td>0</td>\n",
       "      <td>41</td>\n",
       "      <td>0</td>\n",
       "      <td>0.456127</td>\n",
       "      <td>0</td>\n",
       "      <td>0</td>\n",
       "      <td>6666.0</td>\n",
       "      <td>0.0</td>\n",
       "    </tr>\n",
       "    <tr>\n",
       "      <th>3</th>\n",
       "      <td>0</td>\n",
       "      <td>43</td>\n",
       "      <td>0</td>\n",
       "      <td>0.000190</td>\n",
       "      <td>0</td>\n",
       "      <td>0</td>\n",
       "      <td>10500.0</td>\n",
       "      <td>2.0</td>\n",
       "    </tr>\n",
       "    <tr>\n",
       "      <th>4</th>\n",
       "      <td>1</td>\n",
       "      <td>49</td>\n",
       "      <td>0</td>\n",
       "      <td>0.271820</td>\n",
       "      <td>0</td>\n",
       "      <td>0</td>\n",
       "      <td>400.0</td>\n",
       "      <td>0.0</td>\n",
       "    </tr>\n",
       "  </tbody>\n",
       "</table>\n",
       "</div>"
      ],
      "text/plain": [
       "   SeriousDlqin2yrs  age  NumberOfTime30-59DaysPastDueNotWorse    DebtRatio  \\\n",
       "0                 0   64                                     0     0.249908   \n",
       "1                 0   58                                     0  3870.000000   \n",
       "2                 0   41                                     0     0.456127   \n",
       "3                 0   43                                     0     0.000190   \n",
       "4                 1   49                                     0     0.271820   \n",
       "\n",
       "   NumberOfTimes90DaysLate  NumberOfTime60-89DaysPastDueNotWorse  \\\n",
       "0                        0                                     0   \n",
       "1                        0                                     0   \n",
       "2                        0                                     0   \n",
       "3                        0                                     0   \n",
       "4                        0                                     0   \n",
       "\n",
       "   MonthlyIncome  NumberOfDependents  \n",
       "0         8158.0                 0.0  \n",
       "1            NaN                 0.0  \n",
       "2         6666.0                 0.0  \n",
       "3        10500.0                 2.0  \n",
       "4          400.0                 0.0  "
      ]
     },
     "execution_count": 3,
     "metadata": {},
     "output_type": "execute_result"
    }
   ],
   "source": [
    "## Считываем данные\n",
    "data = pd.read_csv(\"../../data/credit_scoring_sample.csv\", sep=\";\")\n",
    "data.head()"
   ]
  },
  {
   "cell_type": "code",
   "execution_count": 4,
   "metadata": {},
   "outputs": [
    {
     "data": {
      "text/plain": [
       "SeriousDlqin2yrs                          int64\n",
       "age                                       int64\n",
       "NumberOfTime30-59DaysPastDueNotWorse      int64\n",
       "DebtRatio                               float64\n",
       "NumberOfTimes90DaysLate                   int64\n",
       "NumberOfTime60-89DaysPastDueNotWorse      int64\n",
       "MonthlyIncome                           float64\n",
       "NumberOfDependents                      float64\n",
       "dtype: object"
      ]
     },
     "execution_count": 4,
     "metadata": {},
     "output_type": "execute_result"
    }
   ],
   "source": [
    "## Рассмотрим типы считанных данных\n",
    "data.dtypes"
   ]
  },
  {
   "cell_type": "code",
   "execution_count": 5,
   "metadata": {},
   "outputs": [
    {
     "name": "stdout",
     "output_type": "stream",
     "text": [
      "Distribution of target\n"
     ]
    },
    {
     "data": {
      "text/plain": [
       "0    0.777511\n",
       "1    0.222489\n",
       "Name: SeriousDlqin2yrs, dtype: float64"
      ]
     },
     "execution_count": 5,
     "metadata": {},
     "output_type": "execute_result"
    },
    {
     "data": {
      "image/png": "[encoded data removed]",
      "text/plain": [
       "<Figure size 432x288 with 1 Axes>"
      ]
     },
     "metadata": {
      "needs_background": "light"
     },
     "output_type": "display_data"
    }
   ],
   "source": [
    "## Посмотрим на распределение классов в зависимой переменной\n",
    "\n",
    "ax = data[\"SeriousDlqin2yrs\"].hist(orientation=\"horizontal\", color=\"red\")\n",
    "ax.set_xlabel(\"number_of_observations\")\n",
    "ax.set_ylabel(\"unique_value\")\n",
    "ax.set_title(\"Target distribution\")\n",
    "\n",
    "print(\"Distribution of target\")\n",
    "data[\"SeriousDlqin2yrs\"].value_counts() / data.shape[0]"
   ]
  },
  {
   "cell_type": "code",
   "execution_count": 6,
   "metadata": {},
   "outputs": [
    {
     "data": {
      "text/plain": [
       "['age',\n",
       " 'NumberOfTime30-59DaysPastDueNotWorse',\n",
       " 'DebtRatio',\n",
       " 'NumberOfTimes90DaysLate',\n",
       " 'NumberOfTime60-89DaysPastDueNotWorse',\n",
       " 'MonthlyIncome',\n",
       " 'NumberOfDependents']"
      ]
     },
     "execution_count": 6,
     "metadata": {},
     "output_type": "execute_result"
    }
   ],
   "source": [
    "## Выберем названия всех признаков из таблицы, кроме прогнозируемого\n",
    "\n",
    "independent_columns_names = data.columns.values\n",
    "independent_columns_names = [x for x in data if x != \"SeriousDlqin2yrs\"]\n",
    "independent_columns_names"
   ]
  },
  {
   "cell_type": "code",
   "execution_count": 7,
   "metadata": {},
   "outputs": [],
   "source": [
    "## Применяем функцию, заменяющую все NaN значения на медианное значение соответствующего столбца\n",
    "table = delete_nan(data)"
   ]
  },
  {
   "cell_type": "code",
   "execution_count": 8,
   "metadata": {},
   "outputs": [],
   "source": [
    "## Разделяем таргет и признаки\n",
    "X = table[independent_columns_names]\n",
    "y = table[\"SeriousDlqin2yrs\"]"
   ]
  },
  {
   "cell_type": "markdown",
   "metadata": {},
   "source": [
    "# Бутстрэп"
   ]
  },
  {
   "cell_type": "markdown",
   "metadata": {},
   "source": [
    "**Задание 2.** Сделайте интервальную оценку среднего возраста (age) для клиентов, которые просрочили выплату кредита, с 90% \"уверенностью\". Используйте пример из статьи, поставьте `np.random.seed(0)`, как это сделано в статье."
   ]
  },
  {
   "cell_type": "code",
   "execution_count": 16,
   "metadata": {},
   "outputs": [
    {
     "name": "stdout",
     "output_type": "stream",
     "text": [
      "Average age : [45.71379414 46.12700479]\n"
     ]
    }
   ],
   "source": [
    "### Ваш код должен быть здесь ###\n",
    "bad_clients = X[y == 1]\n",
    "\n",
    "def get_bootstrap_samples(data, n_samples):\n",
    "    # функция для генерации подвыборок с помощью бутстрэпа\n",
    "    indices = np.random.randint(0, len(data), (n_samples, len(data)))\n",
    "    samples = data[indices]\n",
    "    return samples\n",
    "\n",
    "\n",
    "def stat_intervals(stat, alpha):\n",
    "    # функция для интервальной оценки\n",
    "    boundaries = np.percentile(stat, [100 * alpha / 2.0, 100 * (1 - alpha / 2.0)])\n",
    "    return boundaries\n",
    "\n",
    "\n",
    "np.random.seed(0)\n",
    "\n",
    "n_samples = 1000\n",
    "mean_sample = [np.mean(sample) for sample in get_bootstrap_samples(bad_clients.age.values, n_samples)]\n",
    "\n",
    "print('Average age :', stat_intervals(mean_sample, 0.1))"
   ]
  },
  {
   "cell_type": "markdown",
   "metadata": {},
   "source": [
    "## Подбор параметров для модели логистической регрессии "
   ]
  },
  {
   "cell_type": "markdown",
   "metadata": {},
   "source": [
    "#### Одной из важных метрик качества модели является значение площади под ROC-кривой. Значение ROC-AUC лежит от 0  до 1.   Чем ближе начение метрики ROC-AUC к 1, тем качественнее происходит классификация моделью."
   ]
  },
  {
   "cell_type": "code",
   "execution_count": 83,
   "metadata": {},
   "outputs": [],
   "source": [
    "from sklearn.linear_model import LogisticRegression\n",
    "from sklearn.model_selection import GridSearchCV, StratifiedKFold\n",
    "\n",
    "## Используем модуль LogisticRegression для построения логистической регрессии.\n",
    "## Из-за несбалансированности классов  в таргете добавляем параметр балансировки.\n",
    "## Используем также параметр random_state=5 для воспроизводимости результатов\n",
    "lr = LogisticRegression(random_state=5, class_weight=\"balanced\")\n",
    "\n",
    "## Попробуем подобрать лучший коэффициент регуляризации (коэффициент C в логистической регрессии) для модели лог.регрессии.\n",
    "## Этот параметр необходим для того, чтобы подобрать оптимальную модель, которая не будет переобучена, с одной стороны,\n",
    "## и будет хорошо предсказывать значения таргета, с другой.\n",
    "## Остальные параметры оставляем по умолчанию.\n",
    "parameters = {\"C\": (0.0001, 0.001, 0.01, 0.1, 1, 10)}\n",
    "\n",
    "## Для того, чтобы подобрать коэффициент регуляризации, попробуем для каждого его возможного значения посмотреть\n",
    "## значения roc-auc на стрэтифайд кросс-валидации из 5 фолдов с помощью функции StratifiedKFold\n",
    "\n",
    "skf = StratifiedKFold(n_splits=5, shuffle=True, random_state=5)"
   ]
  },
  {
   "cell_type": "markdown",
   "metadata": {},
   "source": [
    "**Задание 3.**\n",
    "Сделайте GridSearch с метрикой \"roc-auc\" по параметру C. Какое оптимальное значение параметра С?"
   ]
  },
  {
   "cell_type": "code",
   "execution_count": 84,
   "metadata": {},
   "outputs": [],
   "source": [
    "### Ваш код должен быть здесь ###\n",
    "lr = GridSearchCV(lr, param_grid=parameters, cv=skf).fit(X, y)"
   ]
  },
  {
   "cell_type": "code",
   "execution_count": 85,
   "metadata": {},
   "outputs": [
    {
     "data": {
      "text/plain": [
       "{'mean_fit_time': array([0.11072593, 0.08674426, 0.10332818, 0.12314544, 0.13630781,\n",
       "        0.12237144]),\n",
       " 'std_fit_time': array([0.02152345, 0.01451508, 0.03164223, 0.02986721, 0.03365639,\n",
       "        0.02909412]),\n",
       " 'mean_score_time': array([0.00213728, 0.00185184, 0.00188675, 0.00186324, 0.00188303,\n",
       "        0.00183253]),\n",
       " 'std_score_time': array([3.83003715e-04, 2.30137046e-05, 8.40254996e-05, 6.34516010e-05,\n",
       "        9.43561822e-05, 1.95958607e-05]),\n",
       " 'param_C': masked_array(data=[0.0001, 0.001, 0.01, 0.1, 1, 10],\n",
       "              mask=[False, False, False, False, False, False],\n",
       "        fill_value='?',\n",
       "             dtype=object),\n",
       " 'params': [{'C': 0.0001},\n",
       "  {'C': 0.001},\n",
       "  {'C': 0.01},\n",
       "  {'C': 0.1},\n",
       "  {'C': 1},\n",
       "  {'C': 10}],\n",
       " 'split0_test_score': array([0.79629424, 0.82336625, 0.82247864, 0.79019194, 0.8033951 ,\n",
       "        0.7903029 ]),\n",
       " 'split1_test_score': array([0.7977366 , 0.82314435, 0.79806946, 0.7975147 , 0.79673805,\n",
       "        0.8175968 ]),\n",
       " 'split2_test_score': array([0.80517031, 0.80073228, 0.80295129, 0.80295129, 0.80295129,\n",
       "        0.80295129]),\n",
       " 'split3_test_score': array([0.82556591, 0.81557923, 0.81302708, 0.81247226, 0.81258322,\n",
       "        0.81258322]),\n",
       " 'split4_test_score': array([0.8018198 , 0.82900577, 0.82689747, 0.79582779, 0.8018198 ,\n",
       "        0.79582779]),\n",
       " 'mean_test_score': array([0.80531737, 0.81836557, 0.81268479, 0.7997916 , 0.80349749,\n",
       "        0.8038524 ]),\n",
       " 'std_test_score': array([0.0105938 , 0.00979545, 0.01101259, 0.00753435, 0.0051257 ,\n",
       "        0.01013836]),\n",
       " 'rank_test_score': array([3, 1, 2, 6, 5, 4], dtype=int32)}"
      ]
     },
     "execution_count": 85,
     "metadata": {},
     "output_type": "execute_result"
    }
   ],
   "source": [
    "lr.cv_results_"
   ]
  },
  {
   "cell_type": "markdown",
   "metadata": {},
   "source": [
    "**Задание 4.** \n",
    "Можно ли считать лучшую модель устойчивой? (модель считаем устойчивой, если стандартное отклонение на валидации меньше 0.5%) Сохраните точность лучшей модели, она вам приходится для следующих заданий"
   ]
  },
  {
   "cell_type": "code",
   "execution_count": 86,
   "metadata": {},
   "outputs": [
    {
     "data": {
      "text/plain": [
       "({'C': 0.001}, 0.8183655738377407)"
      ]
     },
     "execution_count": 86,
     "metadata": {},
     "output_type": "execute_result"
    }
   ],
   "source": [
    "### Ваш код должен быть здесь ###\n",
    "lr_best = lr.best_estimator_\n",
    "lr.best_params_, lr.best_score_\n",
    "## std = 0.00979545"
   ]
  },
  {
   "cell_type": "markdown",
   "metadata": {},
   "source": [
    "## Определение влияния признаков"
   ]
  },
  {
   "cell_type": "markdown",
   "metadata": {},
   "source": [
    "**Задание 5.**\n",
    "Определите самый важный признак. Важность признака определяется абсолютным значением его коэффициента. Так же нужно нормализировать все признаки, что бы можно их было корректно сравнить."
   ]
  },
  {
   "cell_type": "code",
   "execution_count": 42,
   "metadata": {},
   "outputs": [],
   "source": [
    "### Ваш код должен быть здесь ###\n",
    "from sklearn.preprocessing import StandardScaler\n",
    "\n",
    "sc = StandardScaler()\n",
    "\n",
    "X_tr = sc.fit_transform(X=X)\n",
    "\n",
    "lr_norm = lr_best.fit(X_tr, y)"
   ]
  },
  {
   "cell_type": "code",
   "execution_count": 43,
   "metadata": {},
   "outputs": [
    {
     "data": {
      "text/plain": [
       "(array([[-0.41670229,  0.72342698, -0.02409605,  0.51678764,  0.19355764,\n",
       "         -0.16314632,  0.1014432 ]]),\n",
       " Index(['age', 'NumberOfTime30-59DaysPastDueNotWorse', 'DebtRatio',\n",
       "        'NumberOfTimes90DaysLate', 'NumberOfTime60-89DaysPastDueNotWorse',\n",
       "        'MonthlyIncome', 'NumberOfDependents'],\n",
       "       dtype='object'))"
      ]
     },
     "execution_count": 43,
     "metadata": {},
     "output_type": "execute_result"
    }
   ],
   "source": [
    "lr_norm.coef_, X.columns"
   ]
  },
  {
   "cell_type": "code",
   "execution_count": 44,
   "metadata": {},
   "outputs": [],
   "source": [
    "## the most important: 'NumberOfTime30-59DaysPastDueNotWorse'"
   ]
  },
  {
   "cell_type": "markdown",
   "metadata": {},
   "source": [
    "**Задание 6.** Посчитайте долю влияния DebtRatio на предсказание. (Воспользуйтесь функцией [softmax](https://en.wikipedia.org/wiki/Softmax_function))"
   ]
  },
  {
   "cell_type": "code",
   "execution_count": 45,
   "metadata": {},
   "outputs": [
    {
     "data": {
      "text/plain": [
       "0.10477542906955414"
      ]
     },
     "execution_count": 45,
     "metadata": {},
     "output_type": "execute_result"
    }
   ],
   "source": [
    "### Ваш код должен быть здесь ###\n",
    "sm = lambda ind, x: np.exp(x[ind]) / np.sum(np.exp(x))\n",
    "\n",
    "sm(2, np.abs(lr_norm.coef_[0]))"
   ]
  },
  {
   "cell_type": "markdown",
   "metadata": {},
   "source": [
    "**Задание 7.** \n",
    "Давайте посмотрим как можно интерпретировать влияние наших признаков. Для этого заного оценим логистическую регрессию в абсолютных величинах. После этого посчитайте во сколько раз увеличатся шансы, что клиент не выплатит кредит, если увеличить возраст на 20 лет при всех остальных равных значениях признаков. (теоретический расчет можно посмотреть [здесь](https://www.unm.edu/~schrader/biostat/bio2/Spr06/lec11.pdf))"
   ]
  },
  {
   "cell_type": "code",
   "execution_count": 66,
   "metadata": {},
   "outputs": [
    {
     "name": "stdout",
     "output_type": "stream",
     "text": [
      "Practical value:\n",
      "0.4735944910252678 0.34498659182850794\n",
      "Theoretical value:\n",
      "0.4735944910252678 0.3317851896432764\n"
     ]
    }
   ],
   "source": [
    "### Ваш код должен быть здесь ###\n",
    "sc_age = StandardScaler()\n",
    "sc_age.fit(X.iloc[:, :1])\n",
    "diff_age_tr = np.diff(sc_age.transform([[20], [40]]), axis=0)[0][0]\n",
    "\n",
    "X_old = X.copy()\n",
    "X_old['age'] = X_old['age'] + 20\n",
    "X_old_tr = sc.transform(X_old)\n",
    "\n",
    "print('Practical value:')\n",
    "print(np.mean(lr_norm.predict_proba(X_tr)[:, 1]), np.mean(lr_norm.predict_proba(X_old_tr)[:, 1]))\n",
    "\n",
    "print('Theoretical value:')\n",
    "p0 = np.mean(lr_norm.predict_proba(X_tr)[:, 1])\n",
    "p1 = p0 + lr_norm.coef_[0][0] * p0 * (1 - p0) * diff_age_tr\n",
    "\n",
    "print(p0, p1)"
   ]
  },
  {
   "cell_type": "markdown",
   "metadata": {},
   "source": [
    "# Случайный лес"
   ]
  },
  {
   "cell_type": "code",
   "execution_count": 67,
   "metadata": {},
   "outputs": [],
   "source": [
    "from sklearn.ensemble import RandomForestClassifier\n",
    "\n",
    "# Инициализируем случайный лес с 100 деревьями и сбалансированными классами\n",
    "rf = RandomForestClassifier(\n",
    "    n_estimators=100,\n",
    "    n_jobs=-1,\n",
    "    random_state=42,\n",
    "    oob_score=True,\n",
    "    class_weight=\"balanced\",\n",
    ")\n",
    "\n",
    "## Будем искать лучшие параметры среди следующего набора\n",
    "parameters = {\n",
    "    \"max_features\": [1, 2, 4],\n",
    "    \"min_samples_leaf\": [3, 5, 7, 9],\n",
    "    \"max_depth\": [5, 10, 15],\n",
    "}\n",
    "\n",
    "## Делаем опять же стрэтифайд k-fold валидацию. Инициализация которой должна у вас продолжать храниться в skf"
   ]
  },
  {
   "cell_type": "markdown",
   "metadata": {},
   "source": [
    "**Задание 8.** На сколько точность лучшей модели случайного леса выше точности логистической регрессии на валидации?"
   ]
  },
  {
   "cell_type": "code",
   "execution_count": 68,
   "metadata": {},
   "outputs": [],
   "source": [
    "### Ваш код должен быть здесь ###\n",
    "rf = GridSearchCV(rf, param_grid=parameters, cv=skf).fit(X, y)"
   ]
  },
  {
   "cell_type": "code",
   "execution_count": 69,
   "metadata": {},
   "outputs": [
    {
     "data": {
      "text/plain": [
       "{'mean_fit_time': array([1.16493659, 0.65724258, 0.70873241, 0.65728245, 0.64058762,\n",
       "        0.62511168, 0.61902366, 0.65716853, 0.69154406, 0.71426959,\n",
       "        0.72115908, 0.7275373 , 0.69702387, 0.67493615, 0.67311249,\n",
       "        0.67107038, 0.70577254, 0.71340222, 0.72831502, 0.73587756,\n",
       "        0.91975641, 0.96654038, 0.84328485, 0.85230742, 0.77730942,\n",
       "        0.75597501, 0.74802361, 0.75575719, 0.82939601, 0.81012955,\n",
       "        0.80954566, 0.7979486 , 0.9626472 , 0.98417521, 0.99376764,\n",
       "        0.94616699]),\n",
       " 'std_fit_time': array([1.03575041, 0.07067126, 0.07552043, 0.0271169 , 0.01551354,\n",
       "        0.00723023, 0.00711278, 0.03333668, 0.00875345, 0.04446541,\n",
       "        0.06424065, 0.05863217, 0.02695171, 0.01119474, 0.00841785,\n",
       "        0.00988594, 0.00956783, 0.00623219, 0.01885882, 0.01823262,\n",
       "        0.14304035, 0.10968089, 0.02122634, 0.06191595, 0.0145837 ,\n",
       "        0.00632673, 0.01003694, 0.02198865, 0.00199849, 0.00833969,\n",
       "        0.0281282 , 0.01178703, 0.02384322, 0.03854493, 0.08087276,\n",
       "        0.01165316]),\n",
       " 'mean_score_time': array([0.0264802 , 0.02430539, 0.02809815, 0.02567234, 0.02448621,\n",
       "        0.02457118, 0.02450252, 0.0264791 , 0.0263236 , 0.0273488 ,\n",
       "        0.02424488, 0.02483068, 0.02536874, 0.02624521, 0.02607141,\n",
       "        0.02525806, 0.0260963 , 0.02664938, 0.02599907, 0.02620001,\n",
       "        0.03424506, 0.031709  , 0.02616754, 0.02557197, 0.02974224,\n",
       "        0.02880712, 0.02864499, 0.0281951 , 0.0314898 , 0.03008957,\n",
       "        0.02875471, 0.02933812, 0.02940421, 0.03006244, 0.02949176,\n",
       "        0.02789507]),\n",
       " 'std_score_time': array([0.00463137, 0.00017643, 0.00461136, 0.00208046, 0.00041257,\n",
       "        0.00051783, 0.00073906, 0.00470326, 0.00408898, 0.00524477,\n",
       "        0.00024543, 0.00058886, 0.00052389, 0.00067168, 0.00045805,\n",
       "        0.00074577, 0.0006604 , 0.00091618, 0.00035782, 0.00027469,\n",
       "        0.0167451 , 0.00808253, 0.00106924, 0.00084439, 0.00281715,\n",
       "        0.00091846, 0.00175851, 0.00139479, 0.00351432, 0.00207551,\n",
       "        0.00142294, 0.00235727, 0.00143452, 0.00270819, 0.00194339,\n",
       "        0.00036298]),\n",
       " 'param_max_depth': masked_array(data=[5, 5, 5, 5, 5, 5, 5, 5, 5, 5, 5, 5, 10, 10, 10, 10, 10,\n",
       "                    10, 10, 10, 10, 10, 10, 10, 15, 15, 15, 15, 15, 15, 15,\n",
       "                    15, 15, 15, 15, 15],\n",
       "              mask=[False, False, False, False, False, False, False, False,\n",
       "                    False, False, False, False, False, False, False, False,\n",
       "                    False, False, False, False, False, False, False, False,\n",
       "                    False, False, False, False, False, False, False, False,\n",
       "                    False, False, False, False],\n",
       "        fill_value='?',\n",
       "             dtype=object),\n",
       " 'param_max_features': masked_array(data=[1, 1, 1, 1, 2, 2, 2, 2, 4, 4, 4, 4, 1, 1, 1, 1, 2, 2,\n",
       "                    2, 2, 4, 4, 4, 4, 1, 1, 1, 1, 2, 2, 2, 2, 4, 4, 4, 4],\n",
       "              mask=[False, False, False, False, False, False, False, False,\n",
       "                    False, False, False, False, False, False, False, False,\n",
       "                    False, False, False, False, False, False, False, False,\n",
       "                    False, False, False, False, False, False, False, False,\n",
       "                    False, False, False, False],\n",
       "        fill_value='?',\n",
       "             dtype=object),\n",
       " 'param_min_samples_leaf': masked_array(data=[3, 5, 7, 9, 3, 5, 7, 9, 3, 5, 7, 9, 3, 5, 7, 9, 3, 5,\n",
       "                    7, 9, 3, 5, 7, 9, 3, 5, 7, 9, 3, 5, 7, 9, 3, 5, 7, 9],\n",
       "              mask=[False, False, False, False, False, False, False, False,\n",
       "                    False, False, False, False, False, False, False, False,\n",
       "                    False, False, False, False, False, False, False, False,\n",
       "                    False, False, False, False, False, False, False, False,\n",
       "                    False, False, False, False],\n",
       "        fill_value='?',\n",
       "             dtype=object),\n",
       " 'params': [{'max_depth': 5, 'max_features': 1, 'min_samples_leaf': 3},\n",
       "  {'max_depth': 5, 'max_features': 1, 'min_samples_leaf': 5},\n",
       "  {'max_depth': 5, 'max_features': 1, 'min_samples_leaf': 7},\n",
       "  {'max_depth': 5, 'max_features': 1, 'min_samples_leaf': 9},\n",
       "  {'max_depth': 5, 'max_features': 2, 'min_samples_leaf': 3},\n",
       "  {'max_depth': 5, 'max_features': 2, 'min_samples_leaf': 5},\n",
       "  {'max_depth': 5, 'max_features': 2, 'min_samples_leaf': 7},\n",
       "  {'max_depth': 5, 'max_features': 2, 'min_samples_leaf': 9},\n",
       "  {'max_depth': 5, 'max_features': 4, 'min_samples_leaf': 3},\n",
       "  {'max_depth': 5, 'max_features': 4, 'min_samples_leaf': 5},\n",
       "  {'max_depth': 5, 'max_features': 4, 'min_samples_leaf': 7},\n",
       "  {'max_depth': 5, 'max_features': 4, 'min_samples_leaf': 9},\n",
       "  {'max_depth': 10, 'max_features': 1, 'min_samples_leaf': 3},\n",
       "  {'max_depth': 10, 'max_features': 1, 'min_samples_leaf': 5},\n",
       "  {'max_depth': 10, 'max_features': 1, 'min_samples_leaf': 7},\n",
       "  {'max_depth': 10, 'max_features': 1, 'min_samples_leaf': 9},\n",
       "  {'max_depth': 10, 'max_features': 2, 'min_samples_leaf': 3},\n",
       "  {'max_depth': 10, 'max_features': 2, 'min_samples_leaf': 5},\n",
       "  {'max_depth': 10, 'max_features': 2, 'min_samples_leaf': 7},\n",
       "  {'max_depth': 10, 'max_features': 2, 'min_samples_leaf': 9},\n",
       "  {'max_depth': 10, 'max_features': 4, 'min_samples_leaf': 3},\n",
       "  {'max_depth': 10, 'max_features': 4, 'min_samples_leaf': 5},\n",
       "  {'max_depth': 10, 'max_features': 4, 'min_samples_leaf': 7},\n",
       "  {'max_depth': 10, 'max_features': 4, 'min_samples_leaf': 9},\n",
       "  {'max_depth': 15, 'max_features': 1, 'min_samples_leaf': 3},\n",
       "  {'max_depth': 15, 'max_features': 1, 'min_samples_leaf': 5},\n",
       "  {'max_depth': 15, 'max_features': 1, 'min_samples_leaf': 7},\n",
       "  {'max_depth': 15, 'max_features': 1, 'min_samples_leaf': 9},\n",
       "  {'max_depth': 15, 'max_features': 2, 'min_samples_leaf': 3},\n",
       "  {'max_depth': 15, 'max_features': 2, 'min_samples_leaf': 5},\n",
       "  {'max_depth': 15, 'max_features': 2, 'min_samples_leaf': 7},\n",
       "  {'max_depth': 15, 'max_features': 2, 'min_samples_leaf': 9},\n",
       "  {'max_depth': 15, 'max_features': 4, 'min_samples_leaf': 3},\n",
       "  {'max_depth': 15, 'max_features': 4, 'min_samples_leaf': 5},\n",
       "  {'max_depth': 15, 'max_features': 4, 'min_samples_leaf': 7},\n",
       "  {'max_depth': 15, 'max_features': 4, 'min_samples_leaf': 9}],\n",
       " 'split0_test_score': array([0.80150893, 0.80150893, 0.80073228, 0.80095418, 0.79662709,\n",
       "        0.7970709 , 0.79784755, 0.79806946, 0.79673805, 0.79673805,\n",
       "        0.79673805, 0.79673805, 0.79840231, 0.7975147 , 0.79951182,\n",
       "        0.79451903, 0.80028847, 0.80095418, 0.80039942, 0.79873516,\n",
       "        0.7977366 , 0.79673805, 0.7979585 , 0.79518473, 0.80883169,\n",
       "        0.8045046 , 0.80261844, 0.79917896, 0.81227116, 0.80683457,\n",
       "        0.80517031, 0.80328415, 0.81193831, 0.80849884, 0.80639077,\n",
       "        0.80317319]),\n",
       " 'split1_test_score': array([0.80239654, 0.80195273, 0.80239654, 0.80295129, 0.80184178,\n",
       "        0.80261844, 0.80284034, 0.80239654, 0.80117608, 0.80006657,\n",
       "        0.80028847, 0.80084323, 0.80838788, 0.80583601, 0.80572506,\n",
       "        0.80672362, 0.81027405, 0.80860979, 0.81049595, 0.80971929,\n",
       "        0.80872074, 0.80905359, 0.80683457, 0.80716742, 0.81792966,\n",
       "        0.81371352, 0.80949739, 0.80905359, 0.81903917, 0.81504494,\n",
       "        0.81271497, 0.81282592, 0.81992677, 0.81604349, 0.81559969,\n",
       "        0.81249307]),\n",
       " 'split2_test_score': array([0.80461556, 0.8038389 , 0.80284034, 0.80350605, 0.80317319,\n",
       "        0.8033951 , 0.80284034, 0.80284034, 0.80084323, 0.80084323,\n",
       "        0.80084323, 0.80095418, 0.81227116, 0.80927549, 0.80971929,\n",
       "        0.80960834, 0.81171641, 0.81271497, 0.81216021, 0.81093975,\n",
       "        0.80872074, 0.80605792, 0.80750028, 0.80650172, 0.81781871,\n",
       "        0.81315877, 0.81193831, 0.8099412 , 0.81837346, 0.8167092 ,\n",
       "        0.81338067, 0.81027405, 0.81770776, 0.81482303, 0.81227116,\n",
       "        0.81071785]),\n",
       " 'split3_test_score': array([0.7984909 , 0.79893475, 0.79937861, 0.7976032 , 0.79538393,\n",
       "        0.79516201, 0.79505104, 0.79516201, 0.79482912, 0.79505104,\n",
       "        0.79538393, 0.79538393, 0.80426099, 0.8027075 , 0.80159787,\n",
       "        0.80037727, 0.80326232, 0.80348424, 0.80326232, 0.80193076,\n",
       "        0.79948957, 0.79826897, 0.79837994, 0.79804705, 0.80936529,\n",
       "        0.80304039, 0.80082113, 0.80093209, 0.8081447 , 0.80670217,\n",
       "        0.8018198 , 0.80326232, 0.80725699, 0.80448291, 0.80237461,\n",
       "        0.80082113]),\n",
       " 'split4_test_score': array([0.80614736, 0.80581447, 0.80403906, 0.80514869, 0.80292943,\n",
       "        0.80292943, 0.80304039, 0.80304039, 0.80359521, 0.80381713,\n",
       "        0.80415002, 0.8039281 , 0.80725699, 0.80648025, 0.80592543,\n",
       "        0.80525965, 0.80947625, 0.80625832, 0.80758988, 0.80781181,\n",
       "        0.80681314, 0.80792277, 0.80770084, 0.80648025, 0.81779849,\n",
       "        0.81225033, 0.80925433, 0.80592543, 0.81668886, 0.81358189,\n",
       "        0.81202841, 0.81047492, 0.81724368, 0.81191744, 0.81369285,\n",
       "        0.80992011]),\n",
       " 'mean_test_score': array([0.80263186, 0.80240996, 0.80187736, 0.80203268, 0.79999109,\n",
       "        0.80023517, 0.80032393, 0.80030175, 0.79943633, 0.7993032 ,\n",
       "        0.79948074, 0.7995695 , 0.80611587, 0.80436279, 0.8044959 ,\n",
       "        0.80329758, 0.8070035 , 0.8064043 , 0.80678156, 0.80582735,\n",
       "        0.80429616, 0.80360826, 0.80367483, 0.80267623, 0.81434877,\n",
       "        0.80933352, 0.80682592, 0.80500625, 0.81490347, 0.81177455,\n",
       "        0.80902283, 0.80802427, 0.8148147 , 0.81115314, 0.81006582,\n",
       "        0.80742507]),\n",
       " 'std_test_score': array([0.00263658, 0.00231216, 0.00163859, 0.00258873, 0.00330838,\n",
       "        0.0034256 , 0.00328571, 0.00315382, 0.00318777, 0.00309809,\n",
       "        0.00311824, 0.00310075, 0.00463231, 0.00401061, 0.00357989,\n",
       "        0.00531045, 0.00442969, 0.00407285, 0.0043931 , 0.00470541,\n",
       "        0.00472483, 0.00509853, 0.00450642, 0.00503642, 0.00429039,\n",
       "        0.00458796, 0.00431117, 0.00429268, 0.00412171, 0.00420583,\n",
       "        0.00465579, 0.00398166, 0.0045999 , 0.00423096, 0.00492551,\n",
       "        0.0045704 ]),\n",
       " 'rank_test_score': array([25, 26, 28, 27, 32, 31, 29, 30, 35, 36, 34, 33, 15, 19, 18, 23, 11,\n",
       "        14, 13, 16, 20, 22, 21, 24,  3,  7, 12, 17,  1,  4,  8,  9,  2,  5,\n",
       "         6, 10], dtype=int32)}"
      ]
     },
     "execution_count": 69,
     "metadata": {},
     "output_type": "execute_result"
    }
   ],
   "source": [
    "rf.cv_results_"
   ]
  },
  {
   "cell_type": "code",
   "execution_count": 80,
   "metadata": {},
   "outputs": [
    {
     "name": "stdout",
     "output_type": "stream",
     "text": [
      "0.8149034690681296\n"
     ]
    }
   ],
   "source": [
    "print(rf.best_score_)\n",
    "\n",
    "clf = rf.best_estimator_"
   ]
  },
  {
   "cell_type": "markdown",
   "metadata": {},
   "source": [
    "**Задание 9.** Определите какой признак имеет самое слабое влияние."
   ]
  },
  {
   "cell_type": "code",
   "execution_count": 74,
   "metadata": {},
   "outputs": [
    {
     "data": {
      "text/plain": [
       "array([0.14765148, 0.21303971, 0.16859418, 0.202868  , 0.11300163,\n",
       "       0.12767831, 0.0271667 ])"
      ]
     },
     "execution_count": 74,
     "metadata": {},
     "output_type": "execute_result"
    }
   ],
   "source": [
    "### Ваш код должен быть здесь ###\n",
    "clf.feature_importances_\n",
    "\n",
    "## least imprtant: 'NumberOfDependents'"
   ]
  },
  {
   "cell_type": "markdown",
   "metadata": {},
   "source": [
    "** Задание 10.** Какое наиболее существенное примущество логистической регрессии перед случайным лесом для нашей бизнес-задачи?\n",
    "\n",
    "- меньше тратится времени для тренировки модели;\n",
    "- меньше параметров для перебора;\n",
    "- интепретируемость признаков;\n",
    "- линейные свойства алгоритма."
   ]
  },
  {
   "cell_type": "markdown",
   "metadata": {},
   "source": [
    "# Бэггинг"
   ]
  },
  {
   "cell_type": "code",
   "execution_count": 77,
   "metadata": {},
   "outputs": [],
   "source": [
    "from sklearn.ensemble import BaggingClassifier\n",
    "from sklearn.model_selection import RandomizedSearchCV\n",
    "\n",
    "parameters = {\n",
    "    \"max_features\": [2, 3, 4],\n",
    "    \"max_samples\": [0.5, 0.7, 0.9],\n",
    "    \"base_estimator__C\": [0.0001, 0.001, 0.01, 1, 10, 100],\n",
    "}"
   ]
  },
  {
   "cell_type": "markdown",
   "metadata": {},
   "source": [
    "**Задание 11.** Следующая задача обучить бэггинг классификатор (`random_state`=42). В качестве базовых классификаторов возьмите 100 логистических регрессий и на этот раз используйте не `GridSearchCV`, а `RandomizedSearchCV`. Так как перебирать все 54 варианта комбинаций долго, то поставьте максимальное число итераций 20 для `RandomizedSearchCV`. Также не забудьте передать параметр валидации `cv` и `random_state=1`. Какая лучшая точность получилась?"
   ]
  },
  {
   "cell_type": "code",
   "execution_count": 79,
   "metadata": {},
   "outputs": [],
   "source": [
    "### Ваш код должен быть здесь ###\n",
    "clf = LogisticRegression(random_state=42, class_weight=\"balanced\")\n",
    "clf = BaggingClassifier(base_estimator=clf)\n",
    "clf = RandomizedSearchCV(clf, param_distributions=parameters, random_state=1, cv=skf)\n",
    "search = clf.fit(X, y)"
   ]
  },
  {
   "cell_type": "code",
   "execution_count": 81,
   "metadata": {},
   "outputs": [
    {
     "data": {
      "text/plain": [
       "0.8043402342003505"
      ]
     },
     "execution_count": 81,
     "metadata": {},
     "output_type": "execute_result"
    }
   ],
   "source": [
    "search.best_score_"
   ]
  },
  {
   "cell_type": "markdown",
   "metadata": {},
   "source": [
    "**Задача 12.** Дайте интерпретацию лучших параметров для бэггинга. Почему именно такие значения оказались лучшими?\n",
    "\n",
    "- для бэггинга важно использовать как можно меньше признаков\n",
    "- бэггинг лучше работает на небольших выборках\n",
    "- меньше корреляция между одиночными моделями\n",
    "- чем больше признаков, тем меньше теряется информации"
   ]
  }
 ],
 "metadata": {
  "anaconda-cloud": {},
  "kernelspec": {
   "display_name": "Python 3 (ipykernel)",
   "language": "python",
   "name": "python3"
  },
  "language_info": {
   "codemirror_mode": {
    "name": "ipython",
    "version": 3
   },
   "file_extension": ".py",
   "mimetype": "text/x-python",
   "name": "python",
   "nbconvert_exporter": "python",
   "pygments_lexer": "ipython3",
   "version": "3.9.7"
  }
 },
 "nbformat": 4,
 "nbformat_minor": 1
}
